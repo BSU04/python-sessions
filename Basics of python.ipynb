{
 "cells": [
  {
   "cell_type": "markdown",
   "id": "81ddfe19",
   "metadata": {},
   "source": [
    "# BASICS"
   ]
  },
  {
   "cell_type": "code",
   "execution_count": 41,
   "id": "fd2259ef",
   "metadata": {},
   "outputs": [
    {
     "name": "stdout",
     "output_type": "stream",
     "text": [
      "30\n"
     ]
    }
   ],
   "source": [
    "a = 10\n",
    "b = 20\n",
    "c = a + b\n",
    "print(c)"
   ]
  },
  {
   "cell_type": "code",
   "execution_count": 42,
   "id": "a8139a3e",
   "metadata": {},
   "outputs": [
    {
     "name": "stdout",
     "output_type": "stream",
     "text": [
      "10.0\n"
     ]
    }
   ],
   "source": [
    "a = 10\n",
    "print(float(a))"
   ]
  },
  {
   "cell_type": "code",
   "execution_count": 43,
   "id": "f8b938b4",
   "metadata": {},
   "outputs": [
    {
     "name": "stdout",
     "output_type": "stream",
     "text": [
      "10\n"
     ]
    }
   ],
   "source": [
    "b = 10.50\n",
    "print(int(b))"
   ]
  },
  {
   "cell_type": "code",
   "execution_count": 44,
   "id": "547ee52e",
   "metadata": {},
   "outputs": [
    {
     "data": {
      "text/plain": [
       "str"
      ]
     },
     "execution_count": 44,
     "metadata": {},
     "output_type": "execute_result"
    }
   ],
   "source": [
    "c = 10\n",
    "c = str(c)\n",
    "type(c)"
   ]
  },
  {
   "cell_type": "markdown",
   "id": "46ec1269",
   "metadata": {},
   "source": [
    "### List"
   ]
  },
  {
   "cell_type": "code",
   "execution_count": 45,
   "id": "c45f5e60",
   "metadata": {
    "scrolled": true
   },
   "outputs": [
    {
     "name": "stdout",
     "output_type": "stream",
     "text": [
      "[10, 20, 30, 40, 50]\n"
     ]
    }
   ],
   "source": [
    "#assigning values to a list\n",
    "a = [10,20,30,40,50]\n",
    "print(a)"
   ]
  },
  {
   "cell_type": "code",
   "execution_count": 46,
   "id": "ce5f7d15",
   "metadata": {
    "scrolled": true
   },
   "outputs": [
    {
     "data": {
      "text/plain": [
       "30"
      ]
     },
     "execution_count": 46,
     "metadata": {},
     "output_type": "execute_result"
    }
   ],
   "source": [
    "a[2]"
   ]
  },
  {
   "cell_type": "code",
   "execution_count": 47,
   "id": "e29040b1",
   "metadata": {},
   "outputs": [
    {
     "data": {
      "text/plain": [
       "[10, 20, 30]"
      ]
     },
     "execution_count": 47,
     "metadata": {},
     "output_type": "execute_result"
    }
   ],
   "source": [
    "a[0:3]"
   ]
  },
  {
   "cell_type": "code",
   "execution_count": 48,
   "id": "152aa7d5",
   "metadata": {},
   "outputs": [
    {
     "data": {
      "text/plain": [
       "[10, 20, 30, 120, 50]"
      ]
     },
     "execution_count": 48,
     "metadata": {},
     "output_type": "execute_result"
    }
   ],
   "source": [
    "a[3] = 120\n",
    "a"
   ]
  },
  {
   "cell_type": "code",
   "execution_count": 49,
   "id": "0f930f4f",
   "metadata": {},
   "outputs": [
    {
     "data": {
      "text/plain": [
       "[10, 30, 120, 50]"
      ]
     },
     "execution_count": 49,
     "metadata": {},
     "output_type": "execute_result"
    }
   ],
   "source": [
    "#delete the value in the index\n",
    "del a[1]\n",
    "a"
   ]
  },
  {
   "cell_type": "code",
   "execution_count": 50,
   "id": "6a5e3dc4",
   "metadata": {},
   "outputs": [
    {
     "data": {
      "text/plain": [
       "10"
      ]
     },
     "execution_count": 50,
     "metadata": {},
     "output_type": "execute_result"
    }
   ],
   "source": [
    "#accessing elements\n",
    "a[0]"
   ]
  },
  {
   "cell_type": "code",
   "execution_count": 51,
   "id": "5a9f4d08",
   "metadata": {
    "scrolled": true
   },
   "outputs": [
    {
     "data": {
      "text/plain": [
       "4"
      ]
     },
     "execution_count": 51,
     "metadata": {},
     "output_type": "execute_result"
    }
   ],
   "source": [
    "# length of the list\n",
    "len(a)"
   ]
  },
  {
   "cell_type": "code",
   "execution_count": 52,
   "id": "0acccd57",
   "metadata": {},
   "outputs": [
    {
     "data": {
      "text/plain": [
       "[10, 30, 120, 50, 10, 30, 120, 50]"
      ]
     },
     "execution_count": 52,
     "metadata": {},
     "output_type": "execute_result"
    }
   ],
   "source": [
    "#times the list\n",
    "a * 2"
   ]
  },
  {
   "cell_type": "code",
   "execution_count": 53,
   "id": "37014f49",
   "metadata": {},
   "outputs": [
    {
     "data": {
      "text/plain": [
       "[50, 120, 30, 10]"
      ]
     },
     "execution_count": 53,
     "metadata": {},
     "output_type": "execute_result"
    }
   ],
   "source": [
    "a[::-1]"
   ]
  },
  {
   "cell_type": "code",
   "execution_count": 54,
   "id": "930211ac",
   "metadata": {},
   "outputs": [
    {
     "data": {
      "text/plain": [
       "[10, 30, 120, 50, 3]"
      ]
     },
     "execution_count": 54,
     "metadata": {},
     "output_type": "execute_result"
    }
   ],
   "source": [
    "a.append(3)\n",
    "a"
   ]
  },
  {
   "cell_type": "code",
   "execution_count": 55,
   "id": "1457a3d5",
   "metadata": {},
   "outputs": [
    {
     "data": {
      "text/plain": [
       "[10, 30, 120, 50, 3, 1, 3, 5, 7, 9]"
      ]
     },
     "execution_count": 55,
     "metadata": {},
     "output_type": "execute_result"
    }
   ],
   "source": [
    "b = [1,3,5,7,9]\n",
    "a.extend(b)\n",
    "a"
   ]
  },
  {
   "cell_type": "code",
   "execution_count": 56,
   "id": "2830cfdb",
   "metadata": {},
   "outputs": [
    {
     "data": {
      "text/plain": [
       "[10, 30, 120, 'hello', 50, 3, 1, 3, 5, 7, 9]"
      ]
     },
     "execution_count": 56,
     "metadata": {},
     "output_type": "execute_result"
    }
   ],
   "source": [
    "a.insert(3,'hello')\n",
    "a"
   ]
  },
  {
   "cell_type": "code",
   "execution_count": 57,
   "id": "c62e8ef8",
   "metadata": {
    "scrolled": true
   },
   "outputs": [
    {
     "data": {
      "text/plain": [
       "[10, 30, 'hello', 50, 3, 1, 3, 5, 7, 9]"
      ]
     },
     "execution_count": 57,
     "metadata": {},
     "output_type": "execute_result"
    }
   ],
   "source": [
    "a.remove(120)\n",
    "a"
   ]
  },
  {
   "cell_type": "code",
   "execution_count": 58,
   "id": "6ec12353",
   "metadata": {},
   "outputs": [
    {
     "data": {
      "text/plain": [
       "1"
      ]
     },
     "execution_count": 58,
     "metadata": {},
     "output_type": "execute_result"
    }
   ],
   "source": [
    "#returns the index of the value\n",
    "a.index(30)"
   ]
  },
  {
   "cell_type": "code",
   "execution_count": 59,
   "id": "5182087f",
   "metadata": {},
   "outputs": [
    {
     "data": {
      "text/plain": [
       "1"
      ]
     },
     "execution_count": 59,
     "metadata": {},
     "output_type": "execute_result"
    }
   ],
   "source": [
    "#times the value has repeated\n",
    "a.count('hello')"
   ]
  },
  {
   "cell_type": "code",
   "execution_count": 60,
   "id": "ab1a0dea",
   "metadata": {},
   "outputs": [
    {
     "data": {
      "text/plain": [
       "30"
      ]
     },
     "execution_count": 60,
     "metadata": {},
     "output_type": "execute_result"
    }
   ],
   "source": [
    "#pops the element in the given index and returns the element if needed\n",
    "a.pop(1)"
   ]
  },
  {
   "cell_type": "code",
   "execution_count": 61,
   "id": "e04153be",
   "metadata": {},
   "outputs": [
    {
     "data": {
      "text/plain": [
       "[10, 'hello', 50, 3, 1, 3, 5, 7, 9]"
      ]
     },
     "execution_count": 61,
     "metadata": {},
     "output_type": "execute_result"
    }
   ],
   "source": [
    "a"
   ]
  },
  {
   "cell_type": "code",
   "execution_count": 62,
   "id": "d5147e29",
   "metadata": {},
   "outputs": [],
   "source": [
    "a.reverse()"
   ]
  },
  {
   "cell_type": "code",
   "execution_count": 63,
   "id": "3d5b81b1",
   "metadata": {},
   "outputs": [
    {
     "ename": "TypeError",
     "evalue": "'<' not supported between instances of 'str' and 'int'",
     "output_type": "error",
     "traceback": [
      "\u001b[1;31m---------------------------------------------------------------------------\u001b[0m",
      "\u001b[1;31mTypeError\u001b[0m                                 Traceback (most recent call last)",
      "\u001b[1;32m~\\AppData\\Local\\Temp/ipykernel_9180/2629139315.py\u001b[0m in \u001b[0;36m<module>\u001b[1;34m\u001b[0m\n\u001b[1;32m----> 1\u001b[1;33m \u001b[0ma\u001b[0m\u001b[1;33m.\u001b[0m\u001b[0msort\u001b[0m\u001b[1;33m(\u001b[0m\u001b[1;33m)\u001b[0m\u001b[1;33m\u001b[0m\u001b[1;33m\u001b[0m\u001b[0m\n\u001b[0m",
      "\u001b[1;31mTypeError\u001b[0m: '<' not supported between instances of 'str' and 'int'"
     ]
    }
   ],
   "source": [
    "a.sort()"
   ]
  },
  {
   "cell_type": "code",
   "execution_count": 64,
   "id": "0254bf22",
   "metadata": {},
   "outputs": [],
   "source": [
    "a.clear()"
   ]
  },
  {
   "cell_type": "markdown",
   "id": "2c4443ae",
   "metadata": {},
   "source": [
    "### Dictionaries"
   ]
  },
  {
   "cell_type": "code",
   "execution_count": 65,
   "id": "4bb5cc9c",
   "metadata": {},
   "outputs": [],
   "source": [
    "book = {'J K Rowling': 'Harry Potter and the Philosphers Stone',\n",
    "       'J K Rowling':'Harry Potter and the Chamber of the secrets'}"
   ]
  },
  {
   "cell_type": "code",
   "execution_count": 66,
   "id": "91851810",
   "metadata": {},
   "outputs": [
    {
     "data": {
      "text/plain": [
       "{'J K Rowling': 'Harry Potter and the Chamber of the secrets'}"
      ]
     },
     "execution_count": 66,
     "metadata": {},
     "output_type": "execute_result"
    }
   ],
   "source": [
    "book"
   ]
  },
  {
   "cell_type": "markdown",
   "id": "7e37efa8",
   "metadata": {},
   "source": [
    "### Tuples"
   ]
  },
  {
   "cell_type": "code",
   "execution_count": 67,
   "id": "0b28d71f",
   "metadata": {},
   "outputs": [],
   "source": [
    "fruits = (\"apple\",\"mango\")"
   ]
  },
  {
   "cell_type": "code",
   "execution_count": 68,
   "id": "4fe3534a",
   "metadata": {},
   "outputs": [
    {
     "data": {
      "text/plain": [
       "[]"
      ]
     },
     "execution_count": 68,
     "metadata": {},
     "output_type": "execute_result"
    }
   ],
   "source": [
    "a"
   ]
  },
  {
   "cell_type": "markdown",
   "id": "1c659237",
   "metadata": {},
   "source": [
    "### Sets"
   ]
  },
  {
   "cell_type": "markdown",
   "id": "2d27acc3",
   "metadata": {},
   "source": [
    "A Set is basically an un-ordered collection of elements or items"
   ]
  },
  {
   "cell_type": "code",
   "execution_count": 102,
   "id": "452f4f0a",
   "metadata": {},
   "outputs": [],
   "source": [
    "p = {1,4,5}\n",
    "q = {6,7,10}"
   ]
  },
  {
   "cell_type": "code",
   "execution_count": 103,
   "id": "3062e90d",
   "metadata": {},
   "outputs": [
    {
     "data": {
      "text/plain": [
       "{1, 4, 5}"
      ]
     },
     "execution_count": 103,
     "metadata": {},
     "output_type": "execute_result"
    }
   ],
   "source": [
    "p"
   ]
  },
  {
   "cell_type": "code",
   "execution_count": 104,
   "id": "c56dde5c",
   "metadata": {},
   "outputs": [
    {
     "data": {
      "text/plain": [
       "{6, 7, 10}"
      ]
     },
     "execution_count": 104,
     "metadata": {},
     "output_type": "execute_result"
    }
   ],
   "source": [
    "q"
   ]
  },
  {
   "cell_type": "code",
   "execution_count": 105,
   "id": "1a562566",
   "metadata": {},
   "outputs": [
    {
     "data": {
      "text/plain": [
       "{1, 4, 5, 6, 7, 10}"
      ]
     },
     "execution_count": 105,
     "metadata": {},
     "output_type": "execute_result"
    }
   ],
   "source": [
    "p|q"
   ]
  },
  {
   "cell_type": "code",
   "execution_count": 106,
   "id": "9bf2d750",
   "metadata": {},
   "outputs": [
    {
     "data": {
      "text/plain": [
       "set()"
      ]
     },
     "execution_count": 106,
     "metadata": {},
     "output_type": "execute_result"
    }
   ],
   "source": [
    "p&q"
   ]
  },
  {
   "cell_type": "code",
   "execution_count": 108,
   "id": "b19312bc",
   "metadata": {},
   "outputs": [
    {
     "data": {
      "text/plain": [
       "{1, 4, 5}"
      ]
     },
     "execution_count": 108,
     "metadata": {},
     "output_type": "execute_result"
    }
   ],
   "source": [
    "p - q"
   ]
  },
  {
   "cell_type": "code",
   "execution_count": 109,
   "id": "2d1144da",
   "metadata": {},
   "outputs": [
    {
     "data": {
      "text/plain": [
       "{1, 4, 5, 6, 7, 10}"
      ]
     },
     "execution_count": 109,
     "metadata": {},
     "output_type": "execute_result"
    }
   ],
   "source": [
    "p ^ q"
   ]
  },
  {
   "cell_type": "markdown",
   "id": "c9d3c6e0",
   "metadata": {},
   "source": [
    "### Strings"
   ]
  },
  {
   "cell_type": "code",
   "execution_count": 110,
   "id": "07db3c2f",
   "metadata": {},
   "outputs": [],
   "source": [
    "website = \"Stack Overflow\""
   ]
  },
  {
   "cell_type": "code",
   "execution_count": 111,
   "id": "5b74897e",
   "metadata": {},
   "outputs": [
    {
     "data": {
      "text/plain": [
       "14"
      ]
     },
     "execution_count": 111,
     "metadata": {},
     "output_type": "execute_result"
    }
   ],
   "source": [
    "len(website)"
   ]
  },
  {
   "cell_type": "code",
   "execution_count": 113,
   "id": "5d35b218",
   "metadata": {},
   "outputs": [
    {
     "data": {
      "text/plain": [
       "13"
      ]
     },
     "execution_count": 113,
     "metadata": {},
     "output_type": "execute_result"
    }
   ],
   "source": [
    "website.index('w')"
   ]
  },
  {
   "cell_type": "code",
   "execution_count": 114,
   "id": "ce72922b",
   "metadata": {},
   "outputs": [
    {
     "data": {
      "text/plain": [
       "1"
      ]
     },
     "execution_count": 114,
     "metadata": {},
     "output_type": "execute_result"
    }
   ],
   "source": [
    "website.count('k')"
   ]
  },
  {
   "cell_type": "code",
   "execution_count": 115,
   "id": "a0a9f9aa",
   "metadata": {},
   "outputs": [
    {
     "data": {
      "text/plain": [
       "'STACK OVERFLOW'"
      ]
     },
     "execution_count": 115,
     "metadata": {},
     "output_type": "execute_result"
    }
   ],
   "source": [
    "website.upper()"
   ]
  },
  {
   "cell_type": "code",
   "execution_count": 117,
   "id": "1163b5da",
   "metadata": {},
   "outputs": [
    {
     "data": {
      "text/plain": [
       "['Stack', 'Overflow']"
      ]
     },
     "execution_count": 117,
     "metadata": {},
     "output_type": "execute_result"
    }
   ],
   "source": [
    "website.split(' ')"
   ]
  },
  {
   "cell_type": "code",
   "execution_count": 118,
   "id": "0c5d8f18",
   "metadata": {},
   "outputs": [
    {
     "data": {
      "text/plain": [
       "'stack overflow'"
      ]
     },
     "execution_count": 118,
     "metadata": {},
     "output_type": "execute_result"
    }
   ],
   "source": [
    "website.lower()"
   ]
  },
  {
   "cell_type": "code",
   "execution_count": 120,
   "id": "04b7e18a",
   "metadata": {},
   "outputs": [
    {
     "data": {
      "text/plain": [
       "'Stack,Overflow'"
      ]
     },
     "execution_count": 120,
     "metadata": {},
     "output_type": "execute_result"
    }
   ],
   "source": [
    "website.replace(' ',',')"
   ]
  },
  {
   "cell_type": "code",
   "execution_count": 121,
   "id": "fe4715d7",
   "metadata": {},
   "outputs": [
    {
     "data": {
      "text/plain": [
       "'Stack overflow'"
      ]
     },
     "execution_count": 121,
     "metadata": {},
     "output_type": "execute_result"
    }
   ],
   "source": [
    "website.capitalize()"
   ]
  },
  {
   "cell_type": "markdown",
   "id": "c97364e7",
   "metadata": {},
   "source": [
    "### Operations"
   ]
  },
  {
   "cell_type": "code",
   "execution_count": 122,
   "id": "4aa0d02f",
   "metadata": {},
   "outputs": [
    {
     "name": "stdout",
     "output_type": "stream",
     "text": [
      "15 5 50 2.0 0 100000,"
     ]
    }
   ],
   "source": [
    "m = 10\n",
    "n = 5\n",
    "print(m+n,m-n,m*n,m/n,m%n,m**n,end=',')"
   ]
  },
  {
   "cell_type": "code",
   "execution_count": null,
   "id": "f25e821b",
   "metadata": {},
   "outputs": [],
   "source": []
  }
 ],
 "metadata": {
  "kernelspec": {
   "display_name": "Python 3 (ipykernel)",
   "language": "python",
   "name": "python3"
  },
  "language_info": {
   "codemirror_mode": {
    "name": "ipython",
    "version": 3
   },
   "file_extension": ".py",
   "mimetype": "text/x-python",
   "name": "python",
   "nbconvert_exporter": "python",
   "pygments_lexer": "ipython3",
   "version": "3.9.7"
  }
 },
 "nbformat": 4,
 "nbformat_minor": 5
}
